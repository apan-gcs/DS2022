{
 "cells": [
  {
   "cell_type": "markdown",
   "id": "659f8dbb",
   "metadata": {},
   "source": [
    "**Primes**<p> A program that prints out a list of all prime numbers in the first n natural numbers / positive integers."
   ]
  },
  {
   "cell_type": "code",
   "execution_count": 1,
   "id": "5c23775c",
   "metadata": {},
   "outputs": [],
   "source": [
    "# Creates a list of integers from 1 to n\n",
    "n = 10\n",
    "original = list(range(1, n + 1))\n",
    "\n",
    "#print(original)\n",
    "\n",
    "primes = []"
   ]
  },
  {
   "cell_type": "code",
   "execution_count": 2,
   "id": "0f6f88dc",
   "metadata": {},
   "outputs": [
    {
     "name": "stdout",
     "output_type": "stream",
     "text": [
      "[2, 3, 5, 7]\n"
     ]
    }
   ],
   "source": [
    "for num in original:\n",
    "\n",
    "    # Check if prime by checking all factors\n",
    "    # Iterate through all numbers [2, num-1]\n",
    "    # More efficiently, up to num // 2 + 1 (around half).\n",
    "\n",
    "#    for i in range(2, num):\n",
    "    for i in range(2, num // 2 + 1):\n",
    "        remainder = num % i\n",
    "        if remainder == 0:\n",
    "            # Divisible; not prime, so break\n",
    "            break\n",
    "  \n",
    "    else:  # Only activates if loop ended normally\n",
    "        # If the loop did not break, then prime\n",
    "\n",
    "        if num != 1:              # Checks for 1\n",
    "            primes.append(num)\n",
    "\n",
    "print(primes)"
   ]
  },
  {
   "cell_type": "code",
   "execution_count": null,
   "id": "130d4e2d",
   "metadata": {},
   "outputs": [],
   "source": []
  },
  {
   "cell_type": "code",
   "execution_count": null,
   "id": "e1cd6e47",
   "metadata": {},
   "outputs": [],
   "source": []
  }
 ],
 "metadata": {
  "kernelspec": {
   "display_name": "Python 3 (ipykernel)",
   "language": "python",
   "name": "python3"
  },
  "language_info": {
   "codemirror_mode": {
    "name": "ipython",
    "version": 3
   },
   "file_extension": ".py",
   "mimetype": "text/x-python",
   "name": "python",
   "nbconvert_exporter": "python",
   "pygments_lexer": "ipython3",
   "version": "3.9.7"
  }
 },
 "nbformat": 4,
 "nbformat_minor": 5
}
